{
 "cells": [
  {
   "cell_type": "code",
   "execution_count": 1,
   "metadata": {},
   "outputs": [],
   "source": [
    "import scipy.io as sciio\n",
    "import numpy as np\n",
    "import re\n",
    "import matplotlib.pyplot as plt\n",
    "import scipy.interpolate as sp_int\n",
    "\n",
    "def parse_stl(filename):\n",
    "    match_number = \"-{0,1}[0-9e\\+\\.-]+\"\n",
    "    parse_normal = re.compile(\"^\\s*facet normal(\\s+{0})(\\s+{0})(\\s+{0})\".format(match_number))\n",
    "    parse_vertex = re.compile(\"^\\s*vertex(\\s+{0})(\\s+{0})(\\s+{0})\".format(match_number))\n",
    "    parse_endfacet = re.compile(\"^endfacet\")\n",
    "\n",
    "    with open(filename, 'r') as stl_file:\n",
    "        lines = stl_file.readlines()\n",
    "        num_elements = (len(lines)-2)//7\n",
    "        stl_content = np.zeros((num_elements, 4, 3))\n",
    "        element_id = 0\n",
    "        vertex_id = 1\n",
    "        for l in lines:\n",
    "            if parse_normal.match(l):\n",
    "                normal = np.array([float(f) for f in parse_normal.findall(l)[0]])\n",
    "                stl_content[element_id, 0, :] = normal\n",
    "            if parse_vertex.match(l):\n",
    "                coord = np.array([float(f) for f in parse_vertex.findall(l)[0]])\n",
    "                stl_content[element_id, vertex_id, :] = coord\n",
    "                vertex_id += 1\n",
    "            if parse_endfacet.match(l):\n",
    "                vertex_id = 1\n",
    "                element_id += 1\n",
    "        return stl_content\n",
    "\n",
    "def write_stl(filename, stl):\n",
    "    with open(filename, 'w+') as stl_file:\n",
    "        stl_file.write('solid Created by python\\n')\n",
    "        for element in range(stl.shape[0]):\n",
    "            stl_file.write('facet normal {} {} {}\\n'.format(stl[element, 0, 0],stl[element, 0, 1],stl[element, 0, 2]))\n",
    "            stl_file.write('  outer loop\\n')\n",
    "            stl_file.write('    vertex {} {} {}\\n'.format(stl[element, 1, 0],stl[element, 1, 1],stl[element, 1, 2]))\n",
    "            stl_file.write('    vertex {} {} {}\\n'.format(stl[element, 2, 0],stl[element, 2, 1],stl[element, 2, 2]))\n",
    "            stl_file.write('    vertex {} {} {}\\n'.format(stl[element, 3, 0],stl[element, 3, 1],stl[element, 3, 2]))\n",
    "            stl_file.write('  endloop\\n')\n",
    "            stl_file.write('endfacet\\n')\n",
    "        stl_file.write('endsolid Created by python\\n')\n",
    "\n",
    "def interpolate_stl(stl, x_0, y_0, z_0):\n",
    "    stl_interpolated = np.zeros(stl.shape)\n",
    "    interp = sp_int.interp2d(x_0, y_0, z_0)\n",
    "\n",
    "    stl_interpolated[:, :, 1] = stl[:, :, 1]\n",
    "    stl_interpolated[:, :, 0] = stl[:, :, 0]\n",
    "    for element in range(stl.shape[0]):\n",
    "        #interpolate z axis\n",
    "        for vertex in range(1,4):\n",
    "            stl_interpolated[element, vertex, 2] = interp(stl[element, vertex, 0], stl[element, vertex, 1])\n",
    "        #fix normal\n",
    "        stl_interpolated[element, 0, :] = np.cross(stl_interpolated[element, 2, :] - stl_interpolated[element, 1, :], \n",
    "        stl_interpolated[element, 3, :] - stl_interpolated[element, 1, :])\n",
    "        stl_interpolated[element, 0, :] = stl_interpolated[element, 0, :] / np.linalg.norm(stl_interpolated[element, 0, :])\n",
    "\n",
    "    return stl_interpolated\n"
   ]
  },
  {
   "cell_type": "code",
   "execution_count": 2,
   "metadata": {},
   "outputs": [],
   "source": [
    "path_to_dem = \"../data/Kilauea_DEM_and_lavalakelocation.mat\""
   ]
  },
  {
   "cell_type": "code",
   "execution_count": 3,
   "metadata": {},
   "outputs": [
    {
     "name": "stdout",
     "output_type": "stream",
     "text": [
      "-9983.482789544796 15443.977492558566\n",
      "-12155.990126644727 10576.767193291802\n"
     ]
    },
    {
     "data": {
      "text/plain": [
       "((252, 1), (225, 252))"
      ]
     },
     "execution_count": 3,
     "metadata": {},
     "output_type": "execute_result"
    }
   ],
   "source": [
    "dem = sciio.loadmat(path_to_dem)['DEM']\n",
    "x_lake= 2.604584249773606e+05\n",
    "y_lake= 2.147270125870880e+06\n",
    "\n",
    "xs = dem['x'][0,0] - x_lake\n",
    "ys = dem['y'][0,0] - y_lake\n",
    "zs = dem['Z'][0,0]\n",
    "\n",
    "print(xs.min(), xs.max())\n",
    "print(ys.min(), ys.max())\n",
    "\n",
    "\n",
    "skip_nth = 10\n",
    "xs = xs[::skip_nth,:]\n",
    "ys = ys[::skip_nth,:]\n",
    "zs = zs[::skip_nth,::skip_nth]\n",
    "\n",
    "xs.shape, zs.shape"
   ]
  },
  {
   "cell_type": "code",
   "execution_count": 6,
   "metadata": {},
   "outputs": [],
   "source": [
    "path_to_crater = \"../data/Contour1100.mat\"\n",
    "crater = sciio.loadmat(path_to_crater)\n",
    "crater_x = crater['x'][:,0] - x_lake\n",
    "crater_y = crater['y'][:,0] - y_lake\n",
    "\n",
    "\n",
    "from scipy.spatial import ConvexHull\n",
    "\n",
    "crater_points = np.vstack((crater_x, crater_y)).T\n",
    "hull = ConvexHull(crater_points)\n",
    "\n",
    "\n",
    "def point_in_hull(point, hull, tolerance=1e-12):\n",
    "    return all(\n",
    "        (np.dot(eq[:-1], point) + eq[-1] <= tolerance)\n",
    "        for eq in hull.equations)\n",
    "\n",
    "for i in range(xs.shape[0]):\n",
    "    for j in range(ys.shape[0]):\n",
    "        if point_in_hull(np.array([xs[i], ys[j]]), hull):\n",
    "            zs[i,j] = 10000000 #1030\n",
    "       # zs[i,j] = (1100, zs[i,j])"
   ]
  },
  {
   "cell_type": "code",
   "execution_count": null,
   "metadata": {},
   "outputs": [],
   "source": [
    "plt.scatter(crater_x, crater_y)\n",
    "plt.plot(crater_points[hull.vertices,0], crater_points[hull.vertices,1], 'r--', lw=2)"
   ]
  },
  {
   "cell_type": "code",
   "execution_count": null,
   "metadata": {
    "scrolled": true
   },
   "outputs": [],
   "source": [
    "X, Y = np.meshgrid(crater_x, y)\n",
    "plt.contourf(X, Y, zs, levels=100)\n",
    "plt.xlim(-2e3,2e3)\n",
    "plt.ylim(-2e3, 2e3)\n",
    "plt.show()"
   ]
  },
  {
   "cell_type": "code",
   "execution_count": null,
   "metadata": {},
   "outputs": [],
   "source": [
    "#in_hull = np.all(np.add(np.dot(random_points, hull.equations[:,:-1].T),\n",
    "#hull.equations[:,-1]) <= tolerance, axis=1)\n",
    "\n",
    "\n",
    "stl_plane = parse_stl('../meshes/topography_plane.stl')\n",
    "stl_interpolated = interpolate_stl(stl_plane, xs, ys, zs)\n",
    "write_stl('../meshes/topography.stl', stl_interpolated)"
   ]
  },
  {
   "cell_type": "code",
   "execution_count": null,
   "metadata": {},
   "outputs": [],
   "source": [
    "zs.min()"
   ]
  },
  {
   "cell_type": "code",
   "execution_count": null,
   "metadata": {},
   "outputs": [],
   "source": []
  },
  {
   "cell_type": "code",
   "execution_count": null,
   "metadata": {},
   "outputs": [],
   "source": [
    "crater_x.mean()"
   ]
  },
  {
   "cell_type": "code",
   "execution_count": null,
   "metadata": {},
   "outputs": [],
   "source": [
    "crater['x'][:,0].max()"
   ]
  },
  {
   "cell_type": "code",
   "execution_count": null,
   "metadata": {},
   "outputs": [],
   "source": []
  },
  {
   "cell_type": "code",
   "execution_count": null,
   "metadata": {},
   "outputs": [],
   "source": []
  },
  {
   "cell_type": "code",
   "execution_count": null,
   "metadata": {},
   "outputs": [],
   "source": []
  }
 ],
 "metadata": {
  "kernelspec": {
   "display_name": "Python 3",
   "language": "python",
   "name": "python3"
  },
  "language_info": {
   "codemirror_mode": {
    "name": "ipython",
    "version": 3
   },
   "file_extension": ".py",
   "mimetype": "text/x-python",
   "name": "python",
   "nbconvert_exporter": "python",
   "pygments_lexer": "ipython3",
   "version": "3.9.6"
  }
 },
 "nbformat": 4,
 "nbformat_minor": 4
}
